{
 "cells": [
  {
   "cell_type": "markdown",
   "id": "a1188c2b-1b9e-4dff-8e35-cc808e04263a",
   "metadata": {},
   "source": [
    "# Apply ensemble tree methods to the Concrete dataset\n",
    "\n",
    "The dataset comes from this publication\n",
    ">Yeh, I-Cheng. 2006. “Analysis of Strength of Concrete Using Design of Experiments and Neural Networks.” Journal of Materials in Civil Engineering 18 (4): 597–604. https://doi.org/10.1061/(ASCE)0899-1561(2006)18:4(597)\n",
    "\n",
    "The following results were obtained:\n",
    "- Polynomial regression: training RMS=3.96 MPa (R2 = 0.890); testing RMS=8.82 MPa (R2 = 0.791)\n",
    "- Neural network: training RMS=3.01 MPa (R2 = 0.940); testing RMS=4.32 MPa (R2 = 0.929)\n",
    "\n",
    "Note: The goal of the paper is to generate detailed characterization plots for concrete mixtures from a limited set of experiments. Not predict strength for end-user applications.\n"
   ]
  },
  {
   "cell_type": "code",
   "execution_count": 27,
   "id": "abbcff43-c6b7-4f2a-a500-3d1053a7d102",
   "metadata": {},
   "outputs": [],
   "source": [
    "import numpy as np\n",
    "import pandas as pd\n",
    "from sklearn.ensemble import RandomForestRegressor as RF\n",
    "from sklearn.ensemble import GradientBoostingRegressor as GB\n",
    "from sklearn.model_selection import train_test_split\n",
    "from sklearn.metrics import root_mean_squared_error\n",
    "from sklearn.model_selection import cross_validate, KFold\n",
    "import sklearn.model_selection as skm"
   ]
  },
  {
   "cell_type": "markdown",
   "id": "77f8e59b-4491-47f5-a073-f860ce1c2cf0",
   "metadata": {},
   "source": [
    "## Load the data"
   ]
  },
  {
   "cell_type": "code",
   "execution_count": 2,
   "id": "fa94b503-1c1d-4726-934e-198915f1564c",
   "metadata": {},
   "outputs": [
    {
     "name": "stdout",
     "output_type": "stream",
     "text": [
      "<class 'pandas.core.frame.DataFrame'>\n",
      "RangeIndex: 1030 entries, 0 to 1029\n",
      "Data columns (total 9 columns):\n",
      " #   Column                Non-Null Count  Dtype  \n",
      "---  ------                --------------  -----  \n",
      " 0   cement                1030 non-null   float64\n",
      " 1   blast_furnace_slag    1030 non-null   float64\n",
      " 2   fly_ash               1030 non-null   float64\n",
      " 3   water                 1030 non-null   float64\n",
      " 4   superplasticizer      1030 non-null   float64\n",
      " 5   coarse_agg            1030 non-null   float64\n",
      " 6   fine_agg              1030 non-null   float64\n",
      " 7   age                   1030 non-null   int64  \n",
      " 8   compressive_strength  1030 non-null   float64\n",
      "dtypes: float64(8), int64(1)\n",
      "memory usage: 72.6 KB\n"
     ]
    }
   ],
   "source": [
    "Concrete = pd.read_csv('ConcreteData.csv',\n",
    "                       header=0,\n",
    "                      names=[\"cement\", \"blast_furnace_slag\", \"fly_ash\",\n",
    "                             \"water\", \"superplasticizer\",\"coarse_agg\",\n",
    "                             \"fine_agg\", \"age\", \"compressive_strength\"])\n",
    "Concrete.info()"
   ]
  },
  {
   "cell_type": "markdown",
   "id": "352d76f0-df24-4bff-b758-574c414c6876",
   "metadata": {},
   "source": [
    "## Prepare training and test sets"
   ]
  },
  {
   "cell_type": "code",
   "execution_count": 3,
   "id": "2fc59313-7201-4e58-9023-5fd2599a8a6d",
   "metadata": {},
   "outputs": [],
   "source": [
    "# same random state as in week 03\n",
    "data_train, data_test = train_test_split(Concrete, test_size=0.2, random_state=54)\n",
    "X_train, y_train = data_train.drop(columns=[\"compressive_strength\"]), data_train[\"compressive_strength\"]\n",
    "X_test, y_test = data_test.drop(columns=[\"compressive_strength\"]), data_test[\"compressive_strength\"]"
   ]
  },
  {
   "cell_type": "markdown",
   "id": "1226c4bc-15a8-4de0-a1b9-03205fed06b7",
   "metadata": {},
   "source": [
    "## Find the best model using cross-validation"
   ]
  },
  {
   "cell_type": "code",
   "execution_count": 26,
   "id": "a6bfd6f9-25c8-4390-a9db-7bed7194f572",
   "metadata": {},
   "outputs": [
    {
     "name": "stdout",
     "output_type": "stream",
     "text": [
      "RandomForestRegressor(random_state=0): cv test rmse 4.99\n",
      "RandomForestRegressor(max_features='sqrt', random_state=0): cv test rmse 5.36\n",
      "GradientBoostingRegressor(random_state=0): cv test rmse 4.94\n"
     ]
    }
   ],
   "source": [
    "# TODO: use kfold with n_splits=10, shuffle=True, random_state=0\n"
   ]
  },
  {
   "cell_type": "markdown",
   "id": "f9cccc2f-d095-4b4e-8286-4dedb5cdcdf3",
   "metadata": {},
   "source": [
    "## Grid search best Random Forest parameters"
   ]
  },
  {
   "cell_type": "code",
   "execution_count": 29,
   "id": "9dc024e9-8932-4798-89c8-06d71507d87b",
   "metadata": {},
   "outputs": [
    {
     "name": "stdout",
     "output_type": "stream",
     "text": [
      "RandomForestRegressor(max_features=None, n_estimators=800, random_state=0)\n",
      "cv train rmse 1.87\n",
      "cv test rmse 4.97\n"
     ]
    }
   ],
   "source": [
    "# TODO: Implement grid search for max_features, max_depth and n_estimators\n",
    "# same cv as above\n"
   ]
  },
  {
   "cell_type": "markdown",
   "id": "e1831fac-818b-4360-85da-ef4493983c4d",
   "metadata": {},
   "source": [
    "## Grid search best gradient boosting parameters"
   ]
  },
  {
   "cell_type": "code",
   "execution_count": 30,
   "id": "f9b2e02d-5a16-4e91-a1f0-64b35f2e7b1c",
   "metadata": {},
   "outputs": [
    {
     "name": "stdout",
     "output_type": "stream",
     "text": [
      "GradientBoostingRegressor(n_estimators=800, random_state=0)\n",
      "cv train rmse 1.35\n",
      "cv test rmse 4.07\n"
     ]
    }
   ],
   "source": [
    "# TODO: Implement grid search for learning_rate, max_depth, n_estimators\n",
    "# same cv as above\n"
   ]
  },
  {
   "cell_type": "markdown",
   "id": "decdc145-4cc7-46c8-9776-bc61da5e392a",
   "metadata": {},
   "source": [
    "## Re-train the best model on the training set - evaluate on the test set"
   ]
  },
  {
   "cell_type": "code",
   "execution_count": null,
   "id": "762fb8c6-b0c1-4973-9b50-f742284b5d11",
   "metadata": {},
   "outputs": [],
   "source": [
    "# TODO: update to best model found above\n",
    "model = ...\n",
    "model.fit(X_train, y_train)\n",
    "print(f\"\\n*** {model} ***\")\n",
    "print(f\"Training RMSE={root_mean_squared_error(y_train, model.predict(X_train)):.2f}\")\n",
    "print(f\"Test RMSE={root_mean_squared_error(y_test, model.predict(X_test)):.2f}\")"
   ]
  },
  {
   "cell_type": "code",
   "execution_count": null,
   "id": "200de5e7-a825-4553-8226-efe74046fa0f",
   "metadata": {},
   "outputs": [],
   "source": []
  }
 ],
 "metadata": {
  "kernelspec": {
   "display_name": "Python 3 (ipykernel)",
   "language": "python",
   "name": "python3"
  },
  "language_info": {
   "codemirror_mode": {
    "name": "ipython",
    "version": 3
   },
   "file_extension": ".py",
   "mimetype": "text/x-python",
   "name": "python",
   "nbconvert_exporter": "python",
   "pygments_lexer": "ipython3",
   "version": "3.11.9"
  }
 },
 "nbformat": 4,
 "nbformat_minor": 5
}
