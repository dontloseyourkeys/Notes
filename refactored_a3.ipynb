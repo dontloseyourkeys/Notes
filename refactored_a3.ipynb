{
 "cells": [
  {
   "cell_type": "markdown",
   "metadata": {},
   "source": [
    "Notes/ refactored layout "
   ]
  },
  {
   "cell_type": "code",
   "execution_count": null,
   "metadata": {},
   "outputs": [],
   "source": [
    "#accuracy function for reuse:\n",
    "\n",
    "def accuracy(table):\n",
    "    return (table.iloc[0,0]+table.iloc[1,1])/table.sum().sum()"
   ]
  },
  {
   "cell_type": "code",
   "execution_count": null,
   "metadata": {},
   "outputs": [],
   "source": [
    "lda = LDA(store_covariance=True)\n",
    "lda.fit(X_train.loc[:, ['Lag2']], y_train_labels)\n",
    "\n",
    "#predictions for train\n",
    "y_pred = lda.predict(X_train.loc[:,['Lag2']])\n",
    "\n",
    "#training: display confusion table and accuracy\n",
    "print('Train:')\n",
    "table = confusion_table(y_pred, y_train_labels)\n",
    "display(table)\n",
    "print(f\"train accuracy = {accuracy(table):.3f}\")\n",
    "\n",
    "#predictions for test\n",
    "y_pred = lda.predict(X_test.loc[:,['Lag2']])\n",
    "\n",
    "#test: display confusion table and accuray\n",
    "print('\\nTest:')\n",
    "table = confusion_table(y_pred, y_test_labels)\n",
    "display(table)\n",
    "print(f\"test accuracy = {accuracy(table):.3f}\")"
   ]
  }
 ],
 "metadata": {
  "language_info": {
   "name": "python"
  }
 },
 "nbformat": 4,
 "nbformat_minor": 2
}
